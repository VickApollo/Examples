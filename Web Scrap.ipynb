{
 "cells": [
  {
   "cell_type": "code",
   "execution_count": 1,
   "metadata": {},
   "outputs": [],
   "source": [
    "from bs4 import BeautifulSoup    # HTML PARSER\n",
    "from selenium import webdriver   # JS LOADER\n",
    "import sqlite3 as slt            # DATABASE\n",
    "import os                        # SYSTEM FUNCTIONS\n",
    "import re                        # REGULAR EXPRESSION\n",
    "\n",
    "path = os.getcwd()               # Create a path reference"
   ]
  },
  {
   "cell_type": "code",
   "execution_count": 2,
   "metadata": {},
   "outputs": [
    {
     "data": {
      "text/plain": [
       "<sqlite3.Cursor at 0x11455d810>"
      ]
     },
     "execution_count": 2,
     "metadata": {},
     "output_type": "execute_result"
    }
   ],
   "source": [
    "db_filepath = os.path.join(path , \"database.db\") # Path to database file\n",
    "conn = slt.connect(db_filepath)                  # Creating database \n",
    "                                                 # and opening connection\n",
    "cursor = conn.cursor()                           # Opening a cursor\n",
    "\n",
    "# Let's create our tables\n",
    "qry = 'CREATE TABLE IF NOT EXISTS TBL_PRODUCTS (KIND TEXT, ID INTEGER, NAME TEXT, LINK TEXT, PRICE_ORIG REAL, PRICE_CURR REAL, PRICE_INST REAL , NUM_INST TEXT, SAVINGS REAL, RATING TEXT, BRAND TEXT, STATUS TEXT, PROMOTION TEXT, AVAILABILITY TEXT , INTEREST TEXT)'\n",
    "cursor.execute(\"DROP TABLE TBL_PRODUCTS\")\n",
    "cursor.execute(qry)                             # Executing DDL command"
   ]
  },
  {
   "cell_type": "code",
   "execution_count": 3,
   "metadata": {},
   "outputs": [],
   "source": [
    "rifle_url = 'https://www.ventureshop.com.br/rifles-airsoft-s223/'"
   ]
  },
  {
   "cell_type": "code",
   "execution_count": 4,
   "metadata": {},
   "outputs": [],
   "source": [
    "# Here i'm using Safari\n",
    "# You can choose the driver (Browse)\n",
    "# That best suits you\n",
    "\n",
    "browser = webdriver.Safari()       # Initialize browser\n",
    "browser.get(rifle_url)                # rendering content\n",
    "html = browser.page_source      # retrieving DOM\n",
    "\n",
    "soup = BeautifulSoup(html, 'lxml')    # initilize soup object with html content"
   ]
  },
  {
   "cell_type": "code",
   "execution_count": 5,
   "metadata": {},
   "outputs": [],
   "source": [
    "page_content = soup.find_all(\"ul\" , {'class','products'})"
   ]
  },
  {
   "cell_type": "code",
   "execution_count": 6,
   "metadata": {
    "scrolled": false
   },
   "outputs": [],
   "source": [
    "\n",
    "# Function to retrieve product name\n",
    "def getProductName(item):\n",
    "    product_div = item.find('div',{'class':'product-name'})\n",
    "    product_name = product_div.text\n",
    "    return {'NAME':product_name}\n",
    "\n",
    "# Function to retrieve product rating\n",
    "def getRating(item):\n",
    "    spans = item.find_all('span')\n",
    "    for span in spans:\n",
    "        classes = span.attrs['class']\n",
    "        if 'rating' in classes:\n",
    "            for value in classes:\n",
    "                m = re.search(\"rate\" , value)\n",
    "                if m:\n",
    "                    return {'RATING':value}\n",
    "    # We are assuming that, when there is no rating... \n",
    "    # is because the product is new. \n",
    "    # So, let's give an initial rate (rate-new)\n",
    "    # Avoid bias your insights (don't mix things)\n",
    "    return {'RATING':'rate-new'} \n",
    "\n",
    "# Function to retrieve product prices\n",
    "def getPrices(item):\n",
    "    prices = dict()\n",
    "    \n",
    "    # Current Price\n",
    "    try:        \n",
    "        _price = item.find('div',{'class':'price'})\n",
    "        _price = _price.find('del')\n",
    "        _price = _price.find('b')\n",
    "        prices['PRICE_ORIG'] = float(_price.text.replace('R$ ','').replace('.','').replace(',','.'))\n",
    "    except:\n",
    "        pass\n",
    "    \n",
    "    # Current Price\n",
    "    try:\n",
    "        _price = item.find('em',{'class':'sale-price'})\n",
    "        _price = _price.find('b',{'class':'sale'})\n",
    "        prices['PRICE_CURR'] = float(_price.text.replace('R$ ','').replace('.','').replace(',','.'))\n",
    "    except:\n",
    "        pass\n",
    "    \n",
    "    # Savings\n",
    "    try:        \n",
    "        _price = item.find('small',{'class':'savings'})\n",
    "        _price = _price.find('b')\n",
    "        prices['SAVINGS'] = float(_price.text.replace('R$ ','').replace('.','').replace(',','.'))\n",
    "    except:\n",
    "        pass\n",
    "\n",
    "    # Installments\n",
    "    try:\n",
    "        _price = item.find('dfn' , {'class':'condition'})\n",
    "        _n_parcels = _price.find('b' , {'class':'parcels'})\n",
    "        _parcels = _price.find('b' , {'class':'parcel-value'})\n",
    "        _interest = _price.find('span' , {'class':'no-interest'})\n",
    "        prices['PRICE_INST'] = float(_parcels.text.replace('R$ ','').replace('.','').replace(',','.'))\n",
    "        prices['NUM_INST'] = _n_parcels.text\n",
    "        prices['INTEREST'] = _interest.text.lstrip()\n",
    "    except:\n",
    "        pass\n",
    "\n",
    "    return prices\n",
    "    \n",
    "# Function to retrieve product Brand\n",
    "def getBrand(item):\n",
    "    _brand = item.find('div',{'class':'more-sections'})\n",
    "    _brand = _brand.find('span' , {'class':'brand'})\n",
    "    return {'BRAND':_brand.text} \n",
    "    \n",
    "\n",
    "# Function to check product availability\n",
    "def checkAvailability(item):\n",
    "    _avail = item.find('div' , {'class':'buttons'})\n",
    "    _avail = _avail.find('a' , {'class':'buy'})\n",
    "    if _avail:\n",
    "        return {\"AVAILABILITY\":\"Yes\"}\n",
    "    else:\n",
    "        return {\"AVAILABILITY\":\"No\"}\n",
    "    \n",
    "# Funstion to get Promotion info\n",
    "def getPromotion(item):\n",
    "    _item = item.find('span' , {'class':'promotion'})\n",
    "    if _item:\n",
    "        return {\"PROMOTION\":\"Yes\"}\n",
    "    else:\n",
    "        return {\"PROMOTION\":\"No\"}"
   ]
  },
  {
   "cell_type": "code",
   "execution_count": 7,
   "metadata": {},
   "outputs": [],
   "source": [
    "# Prepare statement for insertion\n",
    "def statement(maps):\n",
    "    cols = maps.keys()\n",
    "    cols = tuple(cols.__iter__())\n",
    "    vals = final.values()\n",
    "    vals = tuple(vals.__iter__())\n",
    "\n",
    "    qry = 'INSERT INTO TBL_PRODUCTS {cols}'\n",
    "    qry = qry.format(cols=cols).replace(\"'\",\"\")\n",
    "    qry += \"VALUES {vals}\".format(vals=vals)\n",
    "    return qry\n",
    "\n",
    "for ul in page_content:                              # Itarare over an <ul>\n",
    "    for item in ul.find_all('li'):                   # Iterate over a <li>\n",
    "        if 'break' not in item.attrs['class']:       # Ignoring list breaks\n",
    "            d1 = getProductName(item)\n",
    "            d2 = getRating(item)\n",
    "            d3 = getPrices(item)\n",
    "            d4 = getBrand(item)\n",
    "            d5 = checkAvailability(item)\n",
    "            d6 = getPromotion(item)\n",
    "            final = {**d1 , **d2 , **d3 , **d4 , **d5 , **d6 }\n",
    "            \n",
    "            insert = statement(final)                # Prepare Insert statement\n",
    "            try:\n",
    "                cursor.execute(insert)\n",
    "            except:\n",
    "                print(d1)\n",
    "                raise           "
   ]
  },
  {
   "cell_type": "code",
   "execution_count": 8,
   "metadata": {},
   "outputs": [
    {
     "name": "stdout",
     "output_type": "stream",
     "text": [
      "(24, 15)\n"
     ]
    }
   ],
   "source": [
    "import pandas as pd\n",
    "\n",
    "qry = \"SELECT * FROM TBL_PRODUCTS\"\n",
    "\n",
    "dataframe = pd.io.sql.read_sql( qry , conn)\n",
    "\n",
    "print(dataframe.shape)"
   ]
  },
  {
   "cell_type": "code",
   "execution_count": 9,
   "metadata": {},
   "outputs": [
    {
     "data": {
      "text/plain": [
       "<matplotlib.axes._subplots.AxesSubplot at 0x1a278640b8>"
      ]
     },
     "execution_count": 9,
     "metadata": {},
     "output_type": "execute_result"
    },
    {
     "data": {
      "image/png": "[encoded data removed]",
      "text/plain": [
       "<Figure size 1080x720 with 1 Axes>"
      ]
     },
     "metadata": {
      "needs_background": "light"
     },
     "output_type": "display_data"
    }
   ],
   "source": [
    "import matplotlib.pyplot as plt\n",
    "import seaborn as sns\n",
    "\n",
    "%matplotlib inline\n",
    "\n",
    "plt.subplots(figsize=(15,10))\n",
    "sns.countplot(data=dataframe , x='BRAND')"
   ]
  },
  {
   "cell_type": "code",
   "execution_count": 10,
   "metadata": {},
   "outputs": [
    {
     "data": {
      "text/plain": [
       "array([['Rifle de Airsoft AEG Scar Labs CM067 Cyma + Pistola Airsoft 24/7 CO2 Cybergun',\n",
       "        1599.0],\n",
       "       ['Rifle de Airsoft AEG M4A1 Custom CM619A - CYMA', 1429.0],\n",
       "       [\"Rifle de Airsoft AEG M4A1 CM518 Black CYMA + Capa + BB's\",\n",
       "        1359.0]], dtype=object)"
      ]
     },
     "execution_count": 10,
     "metadata": {},
     "output_type": "execute_result"
    }
   ],
   "source": [
    "dataframe.sort_values(by='PRICE_CURR' , ascending=False).head(3)[['NAME','PRICE_CURR']].values"
   ]
  }
 ],
 "metadata": {
  "kernelspec": {
   "display_name": "Python 3",
   "language": "python",
   "name": "python3"
  },
  "language_info": {
   "codemirror_mode": {
    "name": "ipython",
    "version": 3
   },
   "file_extension": ".py",
   "mimetype": "text/x-python",
   "name": "python",
   "nbconvert_exporter": "python",
   "pygments_lexer": "ipython3",
   "version": "3.7.1"
  }
 },
 "nbformat": 4,
 "nbformat_minor": 2
}
